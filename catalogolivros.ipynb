{
  "nbformat": 4,
  "nbformat_minor": 0,
  "metadata": {
    "colab": {
      "provenance": [],
      "authorship_tag": "ABX9TyOXTVXbPp+wrUIQX6O6IyIw",
      "include_colab_link": true
    },
    "kernelspec": {
      "name": "python3",
      "display_name": "Python 3"
    },
    "language_info": {
      "name": "python"
    }
  },
  "cells": [
    {
      "cell_type": "markdown",
      "metadata": {
        "id": "view-in-github",
        "colab_type": "text"
      },
      "source": [
        "<a href=\"https://colab.research.google.com/github/giseletoledo/pythonSql/blob/main/catalogolivros.ipynb\" target=\"_parent\"><img src=\"https://colab.research.google.com/assets/colab-badge.svg\" alt=\"Open In Colab\"/></a>"
      ]
    },
    {
      "cell_type": "markdown",
      "source": [
        "Video de demonstração\n",
        "\n",
        "https://drive.google.com/file/d/1kUbOL2f7ALFnn_E2ykxy7_yiLX5JSGut/view?usp=sharing\n"
      ],
      "metadata": {
        "id": "68rK8iE_1f5G"
      }
    },
    {
      "cell_type": "markdown",
      "source": [
        "Utilizar a biblioteca sqlite"
      ],
      "metadata": {
        "id": "H68wKpDTZ0TC"
      }
    },
    {
      "cell_type": "code",
      "execution_count": null,
      "metadata": {
        "id": "n0t1eURGQqji"
      },
      "outputs": [],
      "source": [
        "import sqlite3\n"
      ]
    },
    {
      "cell_type": "markdown",
      "source": [
        "\n",
        "\n",
        "Criar o banco de dados\n",
        "\n"
      ],
      "metadata": {
        "id": "MIahyTzzafHR"
      }
    },
    {
      "cell_type": "code",
      "source": [
        "def inicializar_banco():\n",
        "    conn = sqlite3.connect('cadastro.db')\n",
        "    cursor = conn.cursor()\n",
        "\n",
        "    cursor.execute('''\n",
        "        CREATE TABLE IF NOT EXISTS livros (\n",
        "            id INTEGER PRIMARY KEY AUTOINCREMENT,\n",
        "            titulo TEXT,\n",
        "            autor TEXT,\n",
        "            ano_publicacao TEXT,\n",
        "            quantidade_total INTEGER,\n",
        "            quantidade_disponivel INTEGER\n",
        "        )\n",
        "    ''')\n",
        "\n",
        "    conn.commit()\n",
        "    conn.close()"
      ],
      "metadata": {
        "id": "V1GFAO_LZ7cu"
      },
      "execution_count": null,
      "outputs": []
    },
    {
      "cell_type": "markdown",
      "source": [
        "Cadastrar livros ou buscar livros\n",
        "\n"
      ],
      "metadata": {
        "id": "5SCOVJ33Z_Oj"
      }
    },
    {
      "cell_type": "code",
      "source": [
        "def cadastrar_livro():\n",
        "    titulo = input(\"Digite o título do livro: \")\n",
        "    autor = input(\"Digite o autor do livro: \")\n",
        "    ano_publicacao = input(\"Digite o ano de publicação do livro: \")\n",
        "    quantidade_total = int(input(\"Digite a quantidade total de livros: \"))\n",
        "    quantidade_disponivel = quantidade_total  # Inicialmente, a quantidade disponível é igual à quantidade total\n",
        "\n",
        "    conn = sqlite3.connect('cadastro.db')\n",
        "    cursor = conn.cursor()\n",
        "\n",
        "    cursor.execute('''\n",
        "        INSERT INTO livros (titulo, autor, ano_publicacao, quantidade_total, quantidade_disponivel)\n",
        "        VALUES (?, ?, ?, ?, ?)\n",
        "    ''', (titulo, autor, ano_publicacao, quantidade_total, quantidade_disponivel))\n",
        "\n",
        "    conn.commit()\n",
        "    conn.close()\n",
        "\n",
        "    print(\"Livro cadastrado com sucesso!\")"
      ],
      "metadata": {
        "id": "PGWDGWjSao2k"
      },
      "execution_count": null,
      "outputs": []
    },
    {
      "cell_type": "markdown",
      "source": [
        "Buscar livros"
      ],
      "metadata": {
        "id": "UBzSK92FcWK6"
      }
    },
    {
      "cell_type": "code",
      "source": [
        "def buscar_livro():\n",
        "    termo = input(\"Digite um termo para buscar livros: \")\n",
        "\n",
        "    conn = sqlite3.connect('cadastro.db')\n",
        "    cursor = conn.cursor()\n",
        "\n",
        "    cursor.execute('''\n",
        "        SELECT * FROM livros\n",
        "        WHERE LOWER(titulo) LIKE ? OR LOWER(autor) LIKE ?\n",
        "    ''', ('%' + termo.lower() + '%', '%' + termo.lower() + '%'))\n",
        "\n",
        "    resultados = cursor.fetchall()\n",
        "\n",
        "    conn.close()\n",
        "\n",
        "    if resultados:\n",
        "        for livro in resultados:\n",
        "            print(livro)\n",
        "    else:\n",
        "        print(\"Nenhum livro encontrado com o termo inserido.\")"
      ],
      "metadata": {
        "id": "9zumZcf6Z-VR"
      },
      "execution_count": null,
      "outputs": []
    },
    {
      "cell_type": "markdown",
      "source": [
        "Verificar a disponibilidade"
      ],
      "metadata": {
        "id": "IJlf132pfZyu"
      }
    },
    {
      "cell_type": "code",
      "source": [
        "def verificar_disponibilidade(titulo):\n",
        "    conn = sqlite3.connect('cadastro.db')\n",
        "    cursor = conn.cursor()\n",
        "\n",
        "    cursor.execute('''\n",
        "        SELECT quantidade_total, quantidade_disponivel FROM livros\n",
        "        WHERE LOWER(titulo) = ?\n",
        "    ''', (titulo.lower(),))\n",
        "\n",
        "    resultado = cursor.fetchone()\n",
        "\n",
        "    conn.close()\n",
        "\n",
        "    if resultado:\n",
        "        return resultado\n",
        "    else:\n",
        "        return (0, 0)"
      ],
      "metadata": {
        "id": "K1lWRctlfYJ4"
      },
      "execution_count": null,
      "outputs": []
    },
    {
      "cell_type": "markdown",
      "source": [
        "Emprestar livro"
      ],
      "metadata": {
        "id": "cjoRRUhKj8h8"
      }
    },
    {
      "cell_type": "code",
      "source": [
        "def emprestar_livro(titulo, quantidade):\n",
        "    conn = sqlite3.connect('cadastro.db')\n",
        "    cursor = conn.cursor()\n",
        "\n",
        "    # Verificar a disponibilidade antes de emprestar\n",
        "    quantidade_total, quantidade_disponivel = verificar_disponibilidade(titulo)\n",
        "\n",
        "    if quantidade_disponivel >= quantidade:\n",
        "        # Atualizar a quantidade disponível após o empréstimo\n",
        "        nova_quantidade_disponivel = quantidade_disponivel - quantidade\n",
        "        cursor.execute('''\n",
        "            UPDATE livros\n",
        "            SET quantidade_disponivel = ?\n",
        "            WHERE LOWER(titulo) = ?\n",
        "        ''', (nova_quantidade_disponivel, titulo.lower()))\n",
        "\n",
        "        print(f\"{quantidade} livro(s) de '{titulo}' emprestado(s) com sucesso!\")\n",
        "    else:\n",
        "        print(\"Quantidade insuficiente de livros disponíveis.\")\n",
        "\n",
        "    conn.commit()\n",
        "    conn.close()"
      ],
      "metadata": {
        "id": "au6oQS4sj6RV"
      },
      "execution_count": null,
      "outputs": []
    },
    {
      "cell_type": "markdown",
      "source": [
        "Menu de opções para cadastrar ou buscar um livro\n"
      ],
      "metadata": {
        "id": "6l04U8i9ceQG"
      }
    },
    {
      "cell_type": "code",
      "source": [
        "inicializar_banco()\n",
        "\n",
        "opcao = input(\"Digite 'c' para cadastrar um livro, 'b' para buscar um livro, 'v' para verificar a disponibilidade ou 'e' para emprestar um livro: \")\n",
        "\n",
        "if opcao.lower() == 'c':\n",
        "    cadastrar_livro()\n",
        "elif opcao.lower() == 'b':\n",
        "    buscar_livro()\n",
        "elif opcao.lower() == 'v':\n",
        "    titulo = input(\"Digite o título do livro para verificar a disponibilidade: \")\n",
        "    quantidade_total, quantidade_disponivel = verificar_disponibilidade(titulo)\n",
        "    print(f\"A quantidade total de '{titulo}' é: {quantidade_total}\")\n",
        "    print(f\"A quantidade disponível de '{titulo}' é: {quantidade_disponivel}\")\n",
        "elif opcao.lower() == 'e':\n",
        "    titulo = input(\"Digite o título do livro para emprestar: \")\n",
        "    quantidade = int(input(\"Digite a quantidade de livros para emprestar: \"))\n",
        "    emprestar_livro(titulo, quantidade)\n",
        "else:\n",
        "    print(\"Opção inválida.\")"
      ],
      "metadata": {
        "colab": {
          "base_uri": "https://localhost:8080/"
        },
        "id": "pfFnP2pNclVG",
        "outputId": "e96d171e-3222-4b51-824d-e610b76218bf"
      },
      "execution_count": null,
      "outputs": [
        {
          "output_type": "stream",
          "name": "stdout",
          "text": [
            "Digite 'c' para cadastrar um livro, 'b' para buscar um livro, 'v' para verificar a disponibilidade ou 'e' para emprestar um livro: v\n",
            "Digite o título do livro para verificar a disponibilidade: Senhor dos Anéis\n",
            "A quantidade total de 'Senhor dos Anéis' é: 4\n",
            "A quantidade disponível de 'Senhor dos Anéis' é: 2\n"
          ]
        }
      ]
    },
    {
      "cell_type": "markdown",
      "source": [
        "Limpar o banco de dados"
      ],
      "metadata": {
        "id": "etfDJf-MeS0V"
      }
    },
    {
      "cell_type": "code",
      "source": [
        "def limpar_banco():\n",
        "    conn = sqlite3.connect('cadastro.db')\n",
        "    cursor = conn.cursor()\n",
        "\n",
        "    cursor.execute('DROP TABLE IF EXISTS livros')\n",
        "\n",
        "    conn.commit()\n",
        "    conn.close()\n",
        "\n",
        "limpar_banco()\n"
      ],
      "metadata": {
        "id": "krEzTH1KeSX1"
      },
      "execution_count": null,
      "outputs": []
    }
  ]
}